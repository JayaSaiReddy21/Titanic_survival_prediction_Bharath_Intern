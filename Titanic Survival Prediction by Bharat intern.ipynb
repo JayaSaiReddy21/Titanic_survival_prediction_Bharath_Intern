{
 "cells": [
  {
   "attachments": {},
   "cell_type": "markdown",
   "id": "a4d49bdf",
   "metadata": {},
   "source": [
    "# Titanic Survival Prediction\n",
    "\n",
    "\n",
    "\n",
    "\n",
    "![Titanic Survival Prediction](https://raw.githubusercontent.com/Masterx-AI/Project_Titanic_Survival_Prediction_/main/titanic.jpg)\n",
    "\n",
    "\n",
    "In this project, the goal is to predict the survival outcome of the passengers using two different machine learning algorithms: Naive Bayes and K-Nearest Neighbors (KNN). It aims to compare the performance and accuracy of these algorithms on the Titanic dataset to understand their effectiveness in predicting survival.\n",
    "\n",
    "\n",
    "\n",
    "\n",
    "# Dataset Overview\n",
    "The Titanic dataset is a historical dataset containing information about the passengers aboard the RMS Titanic, which famously sank on its maiden voyage in 1912. This dataset has been widely used in machine learning and data analysis projects due to its rich set of variables and its relevance in understanding factors that influenced survival rates.\n",
    "\n",
    "There are three datasets namely\n",
    "1. train.csv\n",
    "2. test.csv\n",
    "3. gender_submission.csv\n",
    "\n",
    "The dataset consists of the following columns:\n",
    "\n",
    "1. PassengerId: A unique identifier for each passenger.\n",
    "2. Survived: An indicator variable (0 or 1) representing whether the passenger survived or not. This is the target variable that we aim to predict.\n",
    "3. Pclass: The passenger's ticket class (1st, 2nd, or 3rd class).\n",
    "4. Name: The name of the passenger.\n",
    "5. Sex: The gender of the passenger (male or female).\n",
    "6. Age: The age of the passenger in years. It can be a fractional value for infants.\n",
    "7. SibSp: The number of siblings/spouses aboard the Titanic.\n",
    "8. Parch: The number of parents/children aboard the Titanic.\n",
    "9. Ticket: The ticket number of the passenger.\n",
    "10. Fare: The fare paid by the passenger for the ticket.\n",
    "11. Cabin: The cabin number occupied by the passenger.\n",
    "12. Embarked: The port of embarkation (C = Cherbourg, Q = Queenstown, S = Southampton).\n",
    "\n",
    "Naive Bayes is a probabilistic algorithm that assumes independence among features and calculates the probability of each class based on the training data. It is known for its simplicity and efficiency, making it a popular choice for classification tasks.  The task is to implement Naive Bayes from scratch, without using any external libraries, to predict the survival status of the Titanic passengers.\n",
    "\n",
    "KNN, on the other hand, is a non-parametric algorithm that classifies new instances based on the majority vote of its nearest neighbors in the feature space. It does not make assumptions about the underlying data distribution, which makes it flexible and capable of handling complex decision boundaries. The task is also to implement KNN from scratch to compare its performance with Naive Bayes.\n",
    "\n",
    "To evaluate the performance of these algorithms, the dataset is splitted into training and test sets, train the models using the training data, and then make predictions on the test data. And then the accuracy of each algorithm is measured by comparing the predicted survival outcomes with the actual survival status of the passengers. The accuracy metric will help determine which algorithm performs better in predicting survival on the Titanic dataset.\n",
    "\n",
    "# Outline\n",
    "\n",
    "1. Importing Libraries\n",
    "2. Loading Dataset\n",
    "3. Data Analysis & Visualization\n",
    "4. Data Preprocessing\n",
    "5. Model Building\n",
    "6. Evaluation\n",
    "7. Comparison"
   ]
  },
  {
   "attachments": {},
   "cell_type": "markdown",
   "id": "899bc881",
   "metadata": {},
   "source": [
    "# Problem Statement\n",
    "\n",
    "Given a dataset containing information about passengers aboard the Titanic, we aim to build machine learning models using Naive Bayes and KNN algorithms to predict the survival outcome of passengers. The models will be trained on a subset of the data and evaluated based on their accuracy. The objective is to analyze the impact of different features on survival and compare the performance of the two algorithms in terms of predictive accuracy."
   ]
  },
  {
   "attachments": {},
   "cell_type": "markdown",
   "id": "8b51a562",
   "metadata": {},
   "source": [
    "# 1. Importing Libraries\n",
    "\n",
    "Let us import the required libraries to work with our project"
   ]
  },
  {
   "cell_type": "code",
   "execution_count": 316,
   "id": "728f88ee",
   "metadata": {},
   "outputs": [],
   "source": [
    "import numpy as np\n",
    "import pandas as pd\n",
    "import matplotlib.pyplot as plt\n",
    "import seaborn as sns"
   ]
  },
  {
   "attachments": {},
   "cell_type": "markdown",
   "id": "ddea7bd3",
   "metadata": {},
   "source": [
    "# 2. Loading Dataset\n",
    "\n",
    "Loading the data from the csv files named 'train.csv', 'test.csv', 'gender_submission.csv' into seperate Pandas DataFrames"
   ]
  },
  {
   "cell_type": "code",
   "execution_count": 317,
   "id": "e05ccac1",
   "metadata": {},
   "outputs": [],
   "source": [
    "data = pd.read_csv('train.csv')\n",
    "data_test = pd.read_csv('test.csv')\n",
    "data_final = pd.read_csv('gender_submission.csv')\n",
    "data1_final = data_final.copy()"
   ]
  },
  {
   "attachments": {},
   "cell_type": "markdown",
   "id": "124d5b81",
   "metadata": {},
   "source": [
    "# 3. Data Analysis & Visualization\n",
    "\n",
    "The dataset is analysed in order to find any errors, null values(missing values), outliers and data distribution. Additionally, during this part we can find certain relationships and patterns & trends between variables."
   ]
  },
  {
   "cell_type": "code",
   "execution_count": 318,
   "id": "ba1c3929",
   "metadata": {},
   "outputs": [
    {
     "data": {
      "text/html": [
       "<div>\n",
       "<style scoped>\n",
       "    .dataframe tbody tr th:only-of-type {\n",
       "        vertical-align: middle;\n",
       "    }\n",
       "\n",
       "    .dataframe tbody tr th {\n",
       "        vertical-align: top;\n",
       "    }\n",
       "\n",
       "    .dataframe thead th {\n",
       "        text-align: right;\n",
       "    }\n",
       "</style>\n",
       "<table border=\"1\" class=\"dataframe\">\n",
       "  <thead>\n",
       "    <tr style=\"text-align: right;\">\n",
       "      <th></th>\n",
       "      <th>PassengerId</th>\n",
       "      <th>Survived</th>\n",
       "      <th>Pclass</th>\n",
       "      <th>Name</th>\n",
       "      <th>Sex</th>\n",
       "      <th>Age</th>\n",
       "      <th>SibSp</th>\n",
       "      <th>Parch</th>\n",
       "      <th>Ticket</th>\n",
       "      <th>Fare</th>\n",
       "      <th>Cabin</th>\n",
       "      <th>Embarked</th>\n",
       "    </tr>\n",
       "  </thead>\n",
       "  <tbody>\n",
       "    <tr>\n",
       "      <th>0</th>\n",
       "      <td>1</td>\n",
       "      <td>0</td>\n",
       "      <td>3</td>\n",
       "      <td>Braund, Mr. Owen Harris</td>\n",
       "      <td>male</td>\n",
       "      <td>22.0</td>\n",
       "      <td>1</td>\n",
       "      <td>0</td>\n",
       "      <td>A/5 21171</td>\n",
       "      <td>7.2500</td>\n",
       "      <td>NaN</td>\n",
       "      <td>S</td>\n",
       "    </tr>\n",
       "    <tr>\n",
       "      <th>1</th>\n",
       "      <td>2</td>\n",
       "      <td>1</td>\n",
       "      <td>1</td>\n",
       "      <td>Cumings, Mrs. John Bradley (Florence Briggs Th...</td>\n",
       "      <td>female</td>\n",
       "      <td>38.0</td>\n",
       "      <td>1</td>\n",
       "      <td>0</td>\n",
       "      <td>PC 17599</td>\n",
       "      <td>71.2833</td>\n",
       "      <td>C85</td>\n",
       "      <td>C</td>\n",
       "    </tr>\n",
       "    <tr>\n",
       "      <th>2</th>\n",
       "      <td>3</td>\n",
       "      <td>1</td>\n",
       "      <td>3</td>\n",
       "      <td>Heikkinen, Miss. Laina</td>\n",
       "      <td>female</td>\n",
       "      <td>26.0</td>\n",
       "      <td>0</td>\n",
       "      <td>0</td>\n",
       "      <td>STON/O2. 3101282</td>\n",
       "      <td>7.9250</td>\n",
       "      <td>NaN</td>\n",
       "      <td>S</td>\n",
       "    </tr>\n",
       "    <tr>\n",
       "      <th>3</th>\n",
       "      <td>4</td>\n",
       "      <td>1</td>\n",
       "      <td>1</td>\n",
       "      <td>Futrelle, Mrs. Jacques Heath (Lily May Peel)</td>\n",
       "      <td>female</td>\n",
       "      <td>35.0</td>\n",
       "      <td>1</td>\n",
       "      <td>0</td>\n",
       "      <td>113803</td>\n",
       "      <td>53.1000</td>\n",
       "      <td>C123</td>\n",
       "      <td>S</td>\n",
       "    </tr>\n",
       "    <tr>\n",
       "      <th>4</th>\n",
       "      <td>5</td>\n",
       "      <td>0</td>\n",
       "      <td>3</td>\n",
       "      <td>Allen, Mr. William Henry</td>\n",
       "      <td>male</td>\n",
       "      <td>35.0</td>\n",
       "      <td>0</td>\n",
       "      <td>0</td>\n",
       "      <td>373450</td>\n",
       "      <td>8.0500</td>\n",
       "      <td>NaN</td>\n",
       "      <td>S</td>\n",
       "    </tr>\n",
       "  </tbody>\n",
       "</table>\n",
       "</div>"
      ],
      "text/plain": [
       "   PassengerId  Survived  Pclass   \n",
       "0            1         0       3  \\\n",
       "1            2         1       1   \n",
       "2            3         1       3   \n",
       "3            4         1       1   \n",
       "4            5         0       3   \n",
       "\n",
       "                                                Name     Sex   Age  SibSp   \n",
       "0                            Braund, Mr. Owen Harris    male  22.0      1  \\\n",
       "1  Cumings, Mrs. John Bradley (Florence Briggs Th...  female  38.0      1   \n",
       "2                             Heikkinen, Miss. Laina  female  26.0      0   \n",
       "3       Futrelle, Mrs. Jacques Heath (Lily May Peel)  female  35.0      1   \n",
       "4                           Allen, Mr. William Henry    male  35.0      0   \n",
       "\n",
       "   Parch            Ticket     Fare Cabin Embarked  \n",
       "0      0         A/5 21171   7.2500   NaN        S  \n",
       "1      0          PC 17599  71.2833   C85        C  \n",
       "2      0  STON/O2. 3101282   7.9250   NaN        S  \n",
       "3      0            113803  53.1000  C123        S  \n",
       "4      0            373450   8.0500   NaN        S  "
      ]
     },
     "execution_count": 318,
     "metadata": {},
     "output_type": "execute_result"
    }
   ],
   "source": [
    "data.head()"
   ]
  },
  {
   "cell_type": "code",
   "execution_count": 319,
   "id": "8e748144",
   "metadata": {},
   "outputs": [
    {
     "data": {
      "text/plain": [
       "(891, 12)"
      ]
     },
     "execution_count": 319,
     "metadata": {},
     "output_type": "execute_result"
    }
   ],
   "source": [
    "data.shape #To find the rows and columns "
   ]
  },
  {
   "cell_type": "code",
   "execution_count": 320,
   "id": "935f854c",
   "metadata": {},
   "outputs": [
    {
     "name": "stdout",
     "output_type": "stream",
     "text": [
      "<class 'pandas.core.frame.DataFrame'>\n",
      "RangeIndex: 891 entries, 0 to 890\n",
      "Data columns (total 12 columns):\n",
      " #   Column       Non-Null Count  Dtype  \n",
      "---  ------       --------------  -----  \n",
      " 0   PassengerId  891 non-null    int64  \n",
      " 1   Survived     891 non-null    int64  \n",
      " 2   Pclass       891 non-null    int64  \n",
      " 3   Name         891 non-null    object \n",
      " 4   Sex          891 non-null    object \n",
      " 5   Age          714 non-null    float64\n",
      " 6   SibSp        891 non-null    int64  \n",
      " 7   Parch        891 non-null    int64  \n",
      " 8   Ticket       891 non-null    object \n",
      " 9   Fare         891 non-null    float64\n",
      " 10  Cabin        204 non-null    object \n",
      " 11  Embarked     889 non-null    object \n",
      "dtypes: float64(2), int64(5), object(5)\n",
      "memory usage: 83.7+ KB\n"
     ]
    }
   ],
   "source": [
    "data.info()"
   ]
  },
  {
   "cell_type": "code",
   "execution_count": 321,
   "id": "ce65316a",
   "metadata": {},
   "outputs": [
    {
     "data": {
      "text/html": [
       "<div>\n",
       "<style scoped>\n",
       "    .dataframe tbody tr th:only-of-type {\n",
       "        vertical-align: middle;\n",
       "    }\n",
       "\n",
       "    .dataframe tbody tr th {\n",
       "        vertical-align: top;\n",
       "    }\n",
       "\n",
       "    .dataframe thead th {\n",
       "        text-align: right;\n",
       "    }\n",
       "</style>\n",
       "<table border=\"1\" class=\"dataframe\">\n",
       "  <thead>\n",
       "    <tr style=\"text-align: right;\">\n",
       "      <th></th>\n",
       "      <th>PassengerId</th>\n",
       "      <th>Survived</th>\n",
       "      <th>Pclass</th>\n",
       "      <th>Age</th>\n",
       "      <th>SibSp</th>\n",
       "      <th>Parch</th>\n",
       "      <th>Fare</th>\n",
       "    </tr>\n",
       "  </thead>\n",
       "  <tbody>\n",
       "    <tr>\n",
       "      <th>count</th>\n",
       "      <td>891.000000</td>\n",
       "      <td>891.000000</td>\n",
       "      <td>891.000000</td>\n",
       "      <td>714.000000</td>\n",
       "      <td>891.000000</td>\n",
       "      <td>891.000000</td>\n",
       "      <td>891.000000</td>\n",
       "    </tr>\n",
       "    <tr>\n",
       "      <th>mean</th>\n",
       "      <td>446.000000</td>\n",
       "      <td>0.383838</td>\n",
       "      <td>2.308642</td>\n",
       "      <td>29.699118</td>\n",
       "      <td>0.523008</td>\n",
       "      <td>0.381594</td>\n",
       "      <td>32.204208</td>\n",
       "    </tr>\n",
       "    <tr>\n",
       "      <th>std</th>\n",
       "      <td>257.353842</td>\n",
       "      <td>0.486592</td>\n",
       "      <td>0.836071</td>\n",
       "      <td>14.526497</td>\n",
       "      <td>1.102743</td>\n",
       "      <td>0.806057</td>\n",
       "      <td>49.693429</td>\n",
       "    </tr>\n",
       "    <tr>\n",
       "      <th>min</th>\n",
       "      <td>1.000000</td>\n",
       "      <td>0.000000</td>\n",
       "      <td>1.000000</td>\n",
       "      <td>0.420000</td>\n",
       "      <td>0.000000</td>\n",
       "      <td>0.000000</td>\n",
       "      <td>0.000000</td>\n",
       "    </tr>\n",
       "    <tr>\n",
       "      <th>25%</th>\n",
       "      <td>223.500000</td>\n",
       "      <td>0.000000</td>\n",
       "      <td>2.000000</td>\n",
       "      <td>20.125000</td>\n",
       "      <td>0.000000</td>\n",
       "      <td>0.000000</td>\n",
       "      <td>7.910400</td>\n",
       "    </tr>\n",
       "    <tr>\n",
       "      <th>50%</th>\n",
       "      <td>446.000000</td>\n",
       "      <td>0.000000</td>\n",
       "      <td>3.000000</td>\n",
       "      <td>28.000000</td>\n",
       "      <td>0.000000</td>\n",
       "      <td>0.000000</td>\n",
       "      <td>14.454200</td>\n",
       "    </tr>\n",
       "    <tr>\n",
       "      <th>75%</th>\n",
       "      <td>668.500000</td>\n",
       "      <td>1.000000</td>\n",
       "      <td>3.000000</td>\n",
       "      <td>38.000000</td>\n",
       "      <td>1.000000</td>\n",
       "      <td>0.000000</td>\n",
       "      <td>31.000000</td>\n",
       "    </tr>\n",
       "    <tr>\n",
       "      <th>max</th>\n",
       "      <td>891.000000</td>\n",
       "      <td>1.000000</td>\n",
       "      <td>3.000000</td>\n",
       "      <td>80.000000</td>\n",
       "      <td>8.000000</td>\n",
       "      <td>6.000000</td>\n",
       "      <td>512.329200</td>\n",
       "    </tr>\n",
       "  </tbody>\n",
       "</table>\n",
       "</div>"
      ],
      "text/plain": [
       "       PassengerId    Survived      Pclass         Age       SibSp   \n",
       "count   891.000000  891.000000  891.000000  714.000000  891.000000  \\\n",
       "mean    446.000000    0.383838    2.308642   29.699118    0.523008   \n",
       "std     257.353842    0.486592    0.836071   14.526497    1.102743   \n",
       "min       1.000000    0.000000    1.000000    0.420000    0.000000   \n",
       "25%     223.500000    0.000000    2.000000   20.125000    0.000000   \n",
       "50%     446.000000    0.000000    3.000000   28.000000    0.000000   \n",
       "75%     668.500000    1.000000    3.000000   38.000000    1.000000   \n",
       "max     891.000000    1.000000    3.000000   80.000000    8.000000   \n",
       "\n",
       "            Parch        Fare  \n",
       "count  891.000000  891.000000  \n",
       "mean     0.381594   32.204208  \n",
       "std      0.806057   49.693429  \n",
       "min      0.000000    0.000000  \n",
       "25%      0.000000    7.910400  \n",
       "50%      0.000000   14.454200  \n",
       "75%      0.000000   31.000000  \n",
       "max      6.000000  512.329200  "
      ]
     },
     "execution_count": 321,
     "metadata": {},
     "output_type": "execute_result"
    }
   ],
   "source": [
    "data.describe()"
   ]
  },
  {
   "cell_type": "code",
   "execution_count": 322,
   "id": "8e054cc4",
   "metadata": {},
   "outputs": [
    {
     "data": {
      "text/plain": [
       "PassengerId      0\n",
       "Survived         0\n",
       "Pclass           0\n",
       "Name             0\n",
       "Sex              0\n",
       "Age            177\n",
       "SibSp            0\n",
       "Parch            0\n",
       "Ticket           0\n",
       "Fare             0\n",
       "Cabin          687\n",
       "Embarked         2\n",
       "dtype: int64"
      ]
     },
     "execution_count": 322,
     "metadata": {},
     "output_type": "execute_result"
    }
   ],
   "source": [
    "data.isnull().sum()"
   ]
  },
  {
   "attachments": {},
   "cell_type": "markdown",
   "id": "c93ef436",
   "metadata": {},
   "source": [
    "The dataset has been checked for missing values as given above, and as you can infer that the column 'Age' has missing values and 'Cabin' column has nearly most of the missing values and 'Embarked' has only 2 missing values.\n",
    "\n",
    "\n",
    "Let us handle the mentioned columns and treat with the necessary steps before visualizing."
   ]
  },
  {
   "cell_type": "code",
   "execution_count": 323,
   "id": "b09aaca5",
   "metadata": {},
   "outputs": [],
   "source": [
    "data = data.drop(columns = 'Cabin', axis = 1) #Since it has more missing values, it has been dropped"
   ]
  },
  {
   "cell_type": "code",
   "execution_count": 324,
   "id": "28c3ecd0",
   "metadata": {},
   "outputs": [],
   "source": [
    "data['Age'].fillna(data['Age'].mean(), inplace = True) #The null values in the Age column is imputed with the Mean "
   ]
  },
  {
   "cell_type": "code",
   "execution_count": 325,
   "id": "484213ae",
   "metadata": {},
   "outputs": [],
   "source": [
    "data['Embarked'].fillna(data['Embarked'].mode()[0], inplace = True) #The null values in the Embarked column is imputed with the Mode "
   ]
  },
  {
   "attachments": {},
   "cell_type": "markdown",
   "id": "055c3c1a",
   "metadata": {},
   "source": [
    "Now, after cleaning some of the missing values. Let us see whether the dataset has still some missing values"
   ]
  },
  {
   "cell_type": "code",
   "execution_count": 326,
   "id": "26bdf9f5",
   "metadata": {},
   "outputs": [
    {
     "data": {
      "text/plain": [
       "PassengerId    0\n",
       "Survived       0\n",
       "Pclass         0\n",
       "Name           0\n",
       "Sex            0\n",
       "Age            0\n",
       "SibSp          0\n",
       "Parch          0\n",
       "Ticket         0\n",
       "Fare           0\n",
       "Embarked       0\n",
       "dtype: int64"
      ]
     },
     "execution_count": 326,
     "metadata": {},
     "output_type": "execute_result"
    }
   ],
   "source": [
    "data.isnull().sum()"
   ]
  },
  {
   "cell_type": "code",
   "execution_count": 327,
   "id": "6b911534",
   "metadata": {},
   "outputs": [
    {
     "data": {
      "text/html": [
       "<div>\n",
       "<style scoped>\n",
       "    .dataframe tbody tr th:only-of-type {\n",
       "        vertical-align: middle;\n",
       "    }\n",
       "\n",
       "    .dataframe tbody tr th {\n",
       "        vertical-align: top;\n",
       "    }\n",
       "\n",
       "    .dataframe thead th {\n",
       "        text-align: right;\n",
       "    }\n",
       "</style>\n",
       "<table border=\"1\" class=\"dataframe\">\n",
       "  <thead>\n",
       "    <tr style=\"text-align: right;\">\n",
       "      <th></th>\n",
       "      <th>PassengerId</th>\n",
       "      <th>Survived</th>\n",
       "      <th>Pclass</th>\n",
       "      <th>Age</th>\n",
       "      <th>SibSp</th>\n",
       "      <th>Parch</th>\n",
       "      <th>Fare</th>\n",
       "    </tr>\n",
       "  </thead>\n",
       "  <tbody>\n",
       "    <tr>\n",
       "      <th>count</th>\n",
       "      <td>891.000000</td>\n",
       "      <td>891.000000</td>\n",
       "      <td>891.000000</td>\n",
       "      <td>891.000000</td>\n",
       "      <td>891.000000</td>\n",
       "      <td>891.000000</td>\n",
       "      <td>891.000000</td>\n",
       "    </tr>\n",
       "    <tr>\n",
       "      <th>mean</th>\n",
       "      <td>446.000000</td>\n",
       "      <td>0.383838</td>\n",
       "      <td>2.308642</td>\n",
       "      <td>29.699118</td>\n",
       "      <td>0.523008</td>\n",
       "      <td>0.381594</td>\n",
       "      <td>32.204208</td>\n",
       "    </tr>\n",
       "    <tr>\n",
       "      <th>std</th>\n",
       "      <td>257.353842</td>\n",
       "      <td>0.486592</td>\n",
       "      <td>0.836071</td>\n",
       "      <td>13.002015</td>\n",
       "      <td>1.102743</td>\n",
       "      <td>0.806057</td>\n",
       "      <td>49.693429</td>\n",
       "    </tr>\n",
       "    <tr>\n",
       "      <th>min</th>\n",
       "      <td>1.000000</td>\n",
       "      <td>0.000000</td>\n",
       "      <td>1.000000</td>\n",
       "      <td>0.420000</td>\n",
       "      <td>0.000000</td>\n",
       "      <td>0.000000</td>\n",
       "      <td>0.000000</td>\n",
       "    </tr>\n",
       "    <tr>\n",
       "      <th>25%</th>\n",
       "      <td>223.500000</td>\n",
       "      <td>0.000000</td>\n",
       "      <td>2.000000</td>\n",
       "      <td>22.000000</td>\n",
       "      <td>0.000000</td>\n",
       "      <td>0.000000</td>\n",
       "      <td>7.910400</td>\n",
       "    </tr>\n",
       "    <tr>\n",
       "      <th>50%</th>\n",
       "      <td>446.000000</td>\n",
       "      <td>0.000000</td>\n",
       "      <td>3.000000</td>\n",
       "      <td>29.699118</td>\n",
       "      <td>0.000000</td>\n",
       "      <td>0.000000</td>\n",
       "      <td>14.454200</td>\n",
       "    </tr>\n",
       "    <tr>\n",
       "      <th>75%</th>\n",
       "      <td>668.500000</td>\n",
       "      <td>1.000000</td>\n",
       "      <td>3.000000</td>\n",
       "      <td>35.000000</td>\n",
       "      <td>1.000000</td>\n",
       "      <td>0.000000</td>\n",
       "      <td>31.000000</td>\n",
       "    </tr>\n",
       "    <tr>\n",
       "      <th>max</th>\n",
       "      <td>891.000000</td>\n",
       "      <td>1.000000</td>\n",
       "      <td>3.000000</td>\n",
       "      <td>80.000000</td>\n",
       "      <td>8.000000</td>\n",
       "      <td>6.000000</td>\n",
       "      <td>512.329200</td>\n",
       "    </tr>\n",
       "  </tbody>\n",
       "</table>\n",
       "</div>"
      ],
      "text/plain": [
       "       PassengerId    Survived      Pclass         Age       SibSp   \n",
       "count   891.000000  891.000000  891.000000  891.000000  891.000000  \\\n",
       "mean    446.000000    0.383838    2.308642   29.699118    0.523008   \n",
       "std     257.353842    0.486592    0.836071   13.002015    1.102743   \n",
       "min       1.000000    0.000000    1.000000    0.420000    0.000000   \n",
       "25%     223.500000    0.000000    2.000000   22.000000    0.000000   \n",
       "50%     446.000000    0.000000    3.000000   29.699118    0.000000   \n",
       "75%     668.500000    1.000000    3.000000   35.000000    1.000000   \n",
       "max     891.000000    1.000000    3.000000   80.000000    8.000000   \n",
       "\n",
       "            Parch        Fare  \n",
       "count  891.000000  891.000000  \n",
       "mean     0.381594   32.204208  \n",
       "std      0.806057   49.693429  \n",
       "min      0.000000    0.000000  \n",
       "25%      0.000000    7.910400  \n",
       "50%      0.000000   14.454200  \n",
       "75%      0.000000   31.000000  \n",
       "max      6.000000  512.329200  "
      ]
     },
     "execution_count": 327,
     "metadata": {},
     "output_type": "execute_result"
    }
   ],
   "source": [
    "data.describe()"
   ]
  },
  {
   "attachments": {},
   "cell_type": "markdown",
   "id": "63a8177e",
   "metadata": {},
   "source": [
    "Let us visualize some of the features of the dataset to see the relationships or any trends"
   ]
  },
  {
   "cell_type": "code",
   "execution_count": 328,
   "id": "5f6dc8e6",
   "metadata": {},
   "outputs": [
    {
     "data": {
      "image/png": "[encoded data removed]",
      "text/plain": [
       "<Figure size 640x480 with 1 Axes>"
      ]
     },
     "metadata": {},
     "output_type": "display_data"
    }
   ],
   "source": [
    "sns.set()\n",
    "sns.countplot(x = 'Survived', data = data)\n",
    "plt.title('Survival Count')\n",
    "plt.show()"
   ]
  },
  {
   "cell_type": "code",
   "execution_count": 329,
   "id": "7dade27e",
   "metadata": {},
   "outputs": [
    {
     "data": {
      "text/plain": [
       "Survived\n",
       "0    549\n",
       "1    342\n",
       "Name: count, dtype: int64"
      ]
     },
     "execution_count": 329,
     "metadata": {},
     "output_type": "execute_result"
    }
   ],
   "source": [
    "data['Survived'].value_counts()"
   ]
  },
  {
   "cell_type": "code",
   "execution_count": 330,
   "id": "93d708e8",
   "metadata": {},
   "outputs": [
    {
     "data": {
      "image/png": "[encoded data removed]",
      "text/plain": [
       "<Figure size 640x480 with 1 Axes>"
      ]
     },
     "metadata": {},
     "output_type": "display_data"
    }
   ],
   "source": [
    "sns.countplot(x = 'Sex', data = data)\n",
    "plt.title('Sex Distribution')\n",
    "plt.show()"
   ]
  },
  {
   "cell_type": "code",
   "execution_count": 331,
   "id": "b5caa995",
   "metadata": {},
   "outputs": [
    {
     "data": {
      "text/plain": [
       "Sex\n",
       "male      577\n",
       "female    314\n",
       "Name: count, dtype: int64"
      ]
     },
     "execution_count": 331,
     "metadata": {},
     "output_type": "execute_result"
    }
   ],
   "source": [
    "data['Sex'].value_counts()"
   ]
  },
  {
   "attachments": {},
   "cell_type": "markdown",
   "id": "cde32645",
   "metadata": {},
   "source": [
    "Therefore, more females had survived than males during the Titanic Incident"
   ]
  },
  {
   "cell_type": "code",
   "execution_count": 332,
   "id": "09372a90",
   "metadata": {},
   "outputs": [
    {
     "data": {
      "image/png": "[encoded data removed]",
      "text/plain": [
       "<Figure size 640x480 with 1 Axes>"
      ]
     },
     "metadata": {},
     "output_type": "display_data"
    }
   ],
   "source": [
    "sns.countplot(x = 'Sex', hue = 'Survived', data = data)\n",
    "plt.title('Survival count Vs Sex')\n",
    "plt.show()"
   ]
  },
  {
   "cell_type": "code",
   "execution_count": 333,
   "id": "671f8487",
   "metadata": {},
   "outputs": [
    {
     "data": {
      "image/png": "[encoded data removed]",
      "text/plain": [
       "<Figure size 640x480 with 1 Axes>"
      ]
     },
     "metadata": {},
     "output_type": "display_data"
    }
   ],
   "source": [
    "sns.countplot(x = 'Pclass', data = data)\n",
    "plt.title('Pclass Distribution')\n",
    "plt.show()"
   ]
  },
  {
   "cell_type": "code",
   "execution_count": 334,
   "id": "ddf769dd",
   "metadata": {},
   "outputs": [
    {
     "data": {
      "image/png": "[encoded data removed]",
      "text/plain": [
       "<Figure size 640x480 with 1 Axes>"
      ]
     },
     "metadata": {},
     "output_type": "display_data"
    }
   ],
   "source": [
    "sns.countplot(x = 'Pclass', hue = 'Survived', data = data)\n",
    "plt.title('Pclass Vs Survival Count')\n",
    "plt.show()"
   ]
  },
  {
   "attachments": {},
   "cell_type": "markdown",
   "id": "2b275a77",
   "metadata": {},
   "source": [
    "From the above plot, it is obvious that most of the passengers who have bought the third class didn't survive"
   ]
  },
  {
   "cell_type": "code",
   "execution_count": 335,
   "id": "52a44ecd",
   "metadata": {
    "scrolled": false
   },
   "outputs": [
    {
     "data": {
      "image/png": "[encoded data removed]",
      "text/plain": [
       "<Figure size 500x500 with 1 Axes>"
      ]
     },
     "metadata": {},
     "output_type": "display_data"
    }
   ],
   "source": [
    "sns.displot(data['Age'])\n",
    "plt.title('Age Distribution')\n",
    "plt.show()"
   ]
  },
  {
   "attachments": {},
   "cell_type": "markdown",
   "id": "a2d38a99",
   "metadata": {},
   "source": [
    "# 4 Data Preprocessing\n",
    "\n",
    "\n",
    "\n",
    "The preprocessing involves dropping unnecessary columns which adds no value to our project.\n",
    "\n",
    "\n",
    "Then, we're encoding some of the categorical variables. [Sex, Embarked]"
   ]
  },
  {
   "cell_type": "code",
   "execution_count": 336,
   "id": "da748ee3",
   "metadata": {},
   "outputs": [],
   "source": [
    "data.drop(columns = ['Name', 'PassengerId', 'Ticket'], axis = 1, inplace = True)"
   ]
  },
  {
   "cell_type": "code",
   "execution_count": 337,
   "id": "7b919dc2",
   "metadata": {},
   "outputs": [],
   "source": [
    "data.replace({'Sex': {'male': 1, 'female': 0}, 'Embarked' : {'S' : 1, 'C' : 2, 'Q' : 3}}, inplace = True)"
   ]
  },
  {
   "attachments": {},
   "cell_type": "markdown",
   "id": "253427e3",
   "metadata": {},
   "source": [
    "Correlation Map - Used to represent the relationships and patterns between two variables"
   ]
  },
  {
   "cell_type": "code",
   "execution_count": 338,
   "id": "3b2b4bc5",
   "metadata": {
    "scrolled": false
   },
   "outputs": [
    {
     "data": {
      "image/png": "[encoded data removed]",
      "text/plain": [
       "<Figure size 1000x800 with 2 Axes>"
      ]
     },
     "metadata": {},
     "output_type": "display_data"
    }
   ],
   "source": [
    "plt.figure(figsize=(10,8))\n",
    "sns.heatmap(data.corr(), annot = True, cmap = 'YlGnBu',fmt='.2f')\n",
    "plt.title('Correlation of Data')\n",
    "plt.show()"
   ]
  },
  {
   "attachments": {},
   "cell_type": "markdown",
   "id": "e215af45",
   "metadata": {},
   "source": [
    "# 5. Model Building\n",
    "\n",
    "Splitting the data into train_set and test_set. x_train is used for training the model whereas the x_test is used for evaluating the model"
   ]
  },
  {
   "cell_type": "code",
   "execution_count": 339,
   "id": "17230a24",
   "metadata": {},
   "outputs": [
    {
     "name": "stdout",
     "output_type": "stream",
     "text": [
      "(712, 7) (179, 7)\n",
      "(712,) (179,)\n"
     ]
    }
   ],
   "source": [
    "# Here, I've done the splitting of data without using Sklearn train_test_split function\n",
    "\n",
    "\n",
    "X = data.drop('Survived', axis = 1)\n",
    "Y = data['Survived']\n",
    "\n",
    "# Setting the ratio for train-test split (i.e. 80% for training, 20% for testing)\n",
    "train_ratio = 0.8\n",
    "\n",
    "# Calculate the number of samples for training\n",
    "num_train_samples = int(train_ratio * len(data))\n",
    "\n",
    "# Shuffling the indices, this is to ensure that the data is randomly distributed, which results in less bias\n",
    "indices = np.random.permutation(len(data))\n",
    "\n",
    "# Splitting the data and labels based on the shuffled indices\n",
    "x_train = X.iloc[indices[:num_train_samples]]\n",
    "y_train = Y.iloc[indices[:num_train_samples]]\n",
    "x_test = X.iloc[indices[num_train_samples:]]\n",
    "y_test = Y.iloc[indices[num_train_samples:]]\n",
    "\n",
    "print(x_train.shape, x_test.shape)\n",
    "print(y_train.shape, y_test.shape)"
   ]
  },
  {
   "attachments": {},
   "cell_type": "markdown",
   "id": "3cc37fb1",
   "metadata": {},
   "source": [
    "## Naive Bayes Algorithm\n",
    "\n",
    "Naive Bayes is a probabilistic machine learning algorithm that is commonly used for classification tasks. It is based on the Bayes' theorem and assumes that features are conditionally independent given the class label.\n",
    "\n",
    "### Formula\n",
    "\n",
    "The Naive Bayes algorithm calculates the probability of a class label given the features using the following formula:\n",
    "\n",
    "P(y | x1, x2, ..., xn) = (P(x1 | y) * P(x2 | y) * ... * P(xn | y) * P(y)) / P(x1, x2, ..., xn)\n",
    "\n",
    "Where:\n",
    "- P(y | x1, x2, ..., xn) is the posterior probability of class y given features x1, x2, ..., xn.\n",
    "- P(x1, x2, ..., xn) is the evidence or marginal probability of features x1, x2, ..., xn.\n",
    "- P(x1 | y), P(x2 | y), ..., P(xn | y) are the conditional probabilities of features x1, x2, ..., xn given class y.\n",
    "- P(y) is the prior probability of class y.\n",
    "\n",
    "### Assumptions\n",
    "\n",
    "The Naive Bayes algorithm makes the \"naive\" assumption that all features are independent of each other given the class label. This simplifies the calculation of the conditional probabilities. However, this assumption may not hold true in all cases and can impact the accuracy of the algorithm.\n",
    "\n",
    "### Classification Process\n",
    "\n",
    "The Naive Bayes algorithm classifies a new instance by selecting the class label that has the highest posterior probability. This is done by calculating the posterior probability for each class label and comparing them.\n"
   ]
  },
  {
   "cell_type": "code",
   "execution_count": 340,
   "id": "b7d96749",
   "metadata": {},
   "outputs": [
    {
     "name": "stdout",
     "output_type": "stream",
     "text": [
      "Accuracy: 0.8044692737430168\n"
     ]
    }
   ],
   "source": [
    "#Modelling the algorithm\n",
    "\n",
    "class_probabilities = {}\n",
    "unique_classes = np.unique(y_train)\n",
    "for class_value in unique_classes:\n",
    "    class_probabilities[class_value] = len(y_train[y_train == class_value]) / len(y_train)\n",
    "\n",
    "# Calculate mean and standard deviation for each feature per class\n",
    "\n",
    "feature_stats = {}\n",
    "for class_value in unique_classes: \n",
    "    feature_stats[class_value] = {}    #This is for the individual class values (i.e for class_value = 0)\n",
    "    for feature in x_train.columns:    #This loop is for accessing all the features in the x_train\n",
    "        feature_stats[class_value][feature] = {\n",
    "            #Calculates the mean and standard deviation based on the \n",
    "            #filteration on each features according to the class_value\n",
    "            \n",
    "            'mean': x_train.loc[y_train == class_value, feature].mean(), \n",
    "            'std': x_train.loc[y_train == class_value, feature].std()\n",
    "        }\n",
    "\n",
    "# Function to calculate probability density function (PDF) of a given value\n",
    "def calculate_pdf(x, mean, std):\n",
    "    exponent = np.exp(-((x - mean) ** 2 / (2 * std ** 2)))\n",
    "    return (1 / (np.sqrt(2 * np.pi) * std)) * exponent\n",
    "\n",
    "# Predict the class for a given instance\n",
    "def predict(instance):\n",
    "    probabilities = {}\n",
    "    for class_value in unique_classes:\n",
    "        probabilities[class_value] = class_probabilities[class_value]\n",
    "        for feature in instance.index:\n",
    "            probabilities[class_value] *= calculate_pdf(instance[feature], feature_stats[class_value][feature]['mean'],\n",
    "                                                       feature_stats[class_value][feature]['std'])\n",
    "    return max(probabilities, key=probabilities.get)\n",
    "\n",
    "# Make predictions on the test set\n",
    "predictions = []\n",
    "for _, instance in x_test.iterrows(): #Avoids the indices and only takes the values over each iteration\n",
    "    predictions.append(predict(instance))\n",
    "\n",
    "# Evaluate the model\n",
    "accuracy = np.sum(predictions == y_test) / len(y_test)\n",
    "print('Accuracy:', accuracy)"
   ]
  },
  {
   "attachments": {},
   "cell_type": "markdown",
   "id": "667f6172",
   "metadata": {},
   "source": [
    "Additionally, it is required to test the algorithm's accuracy using the test.csv by comparing with the gender_submission.csv"
   ]
  },
  {
   "cell_type": "code",
   "execution_count": 341,
   "id": "c98eb331",
   "metadata": {},
   "outputs": [
    {
     "data": {
      "text/html": [
       "<div>\n",
       "<style scoped>\n",
       "    .dataframe tbody tr th:only-of-type {\n",
       "        vertical-align: middle;\n",
       "    }\n",
       "\n",
       "    .dataframe tbody tr th {\n",
       "        vertical-align: top;\n",
       "    }\n",
       "\n",
       "    .dataframe thead th {\n",
       "        text-align: right;\n",
       "    }\n",
       "</style>\n",
       "<table border=\"1\" class=\"dataframe\">\n",
       "  <thead>\n",
       "    <tr style=\"text-align: right;\">\n",
       "      <th></th>\n",
       "      <th>PassengerId</th>\n",
       "      <th>Pclass</th>\n",
       "      <th>Name</th>\n",
       "      <th>Sex</th>\n",
       "      <th>Age</th>\n",
       "      <th>SibSp</th>\n",
       "      <th>Parch</th>\n",
       "      <th>Ticket</th>\n",
       "      <th>Fare</th>\n",
       "      <th>Cabin</th>\n",
       "      <th>Embarked</th>\n",
       "    </tr>\n",
       "  </thead>\n",
       "  <tbody>\n",
       "    <tr>\n",
       "      <th>413</th>\n",
       "      <td>1305</td>\n",
       "      <td>3</td>\n",
       "      <td>Spector, Mr. Woolf</td>\n",
       "      <td>male</td>\n",
       "      <td>NaN</td>\n",
       "      <td>0</td>\n",
       "      <td>0</td>\n",
       "      <td>A.5. 3236</td>\n",
       "      <td>8.0500</td>\n",
       "      <td>NaN</td>\n",
       "      <td>S</td>\n",
       "    </tr>\n",
       "    <tr>\n",
       "      <th>414</th>\n",
       "      <td>1306</td>\n",
       "      <td>1</td>\n",
       "      <td>Oliva y Ocana, Dona. Fermina</td>\n",
       "      <td>female</td>\n",
       "      <td>39.0</td>\n",
       "      <td>0</td>\n",
       "      <td>0</td>\n",
       "      <td>PC 17758</td>\n",
       "      <td>108.9000</td>\n",
       "      <td>C105</td>\n",
       "      <td>C</td>\n",
       "    </tr>\n",
       "    <tr>\n",
       "      <th>415</th>\n",
       "      <td>1307</td>\n",
       "      <td>3</td>\n",
       "      <td>Saether, Mr. Simon Sivertsen</td>\n",
       "      <td>male</td>\n",
       "      <td>38.5</td>\n",
       "      <td>0</td>\n",
       "      <td>0</td>\n",
       "      <td>SOTON/O.Q. 3101262</td>\n",
       "      <td>7.2500</td>\n",
       "      <td>NaN</td>\n",
       "      <td>S</td>\n",
       "    </tr>\n",
       "    <tr>\n",
       "      <th>416</th>\n",
       "      <td>1308</td>\n",
       "      <td>3</td>\n",
       "      <td>Ware, Mr. Frederick</td>\n",
       "      <td>male</td>\n",
       "      <td>NaN</td>\n",
       "      <td>0</td>\n",
       "      <td>0</td>\n",
       "      <td>359309</td>\n",
       "      <td>8.0500</td>\n",
       "      <td>NaN</td>\n",
       "      <td>S</td>\n",
       "    </tr>\n",
       "    <tr>\n",
       "      <th>417</th>\n",
       "      <td>1309</td>\n",
       "      <td>3</td>\n",
       "      <td>Peter, Master. Michael J</td>\n",
       "      <td>male</td>\n",
       "      <td>NaN</td>\n",
       "      <td>1</td>\n",
       "      <td>1</td>\n",
       "      <td>2668</td>\n",
       "      <td>22.3583</td>\n",
       "      <td>NaN</td>\n",
       "      <td>C</td>\n",
       "    </tr>\n",
       "  </tbody>\n",
       "</table>\n",
       "</div>"
      ],
      "text/plain": [
       "     PassengerId  Pclass                          Name     Sex   Age  SibSp   \n",
       "413         1305       3            Spector, Mr. Woolf    male   NaN      0  \\\n",
       "414         1306       1  Oliva y Ocana, Dona. Fermina  female  39.0      0   \n",
       "415         1307       3  Saether, Mr. Simon Sivertsen    male  38.5      0   \n",
       "416         1308       3           Ware, Mr. Frederick    male   NaN      0   \n",
       "417         1309       3      Peter, Master. Michael J    male   NaN      1   \n",
       "\n",
       "     Parch              Ticket      Fare Cabin Embarked  \n",
       "413      0           A.5. 3236    8.0500   NaN        S  \n",
       "414      0            PC 17758  108.9000  C105        C  \n",
       "415      0  SOTON/O.Q. 3101262    7.2500   NaN        S  \n",
       "416      0              359309    8.0500   NaN        S  \n",
       "417      1                2668   22.3583   NaN        C  "
      ]
     },
     "execution_count": 341,
     "metadata": {},
     "output_type": "execute_result"
    }
   ],
   "source": [
    "data_test.tail() # This is the test.csv file"
   ]
  },
  {
   "attachments": {},
   "cell_type": "markdown",
   "id": "62d2fff4",
   "metadata": {},
   "source": [
    "Let us perform some of the data preprocessing for the test.csv which is stored in data_test DataFrame."
   ]
  },
  {
   "cell_type": "code",
   "execution_count": 342,
   "id": "13552869",
   "metadata": {},
   "outputs": [],
   "source": [
    "data_test.drop(columns = ['PassengerId', 'Name', 'Cabin', 'Ticket'], axis = 1, inplace = True)"
   ]
  },
  {
   "cell_type": "code",
   "execution_count": 343,
   "id": "42a260f4",
   "metadata": {},
   "outputs": [],
   "source": [
    "data_test.replace({'Sex' : {'male' : 1, 'female' : 0}, 'Embarked' : {'S' : 1, 'C' : 2, 'Q' : 3}}, inplace = True)"
   ]
  },
  {
   "cell_type": "code",
   "execution_count": 344,
   "id": "64922ec4",
   "metadata": {},
   "outputs": [
    {
     "data": {
      "text/html": [
       "<div>\n",
       "<style scoped>\n",
       "    .dataframe tbody tr th:only-of-type {\n",
       "        vertical-align: middle;\n",
       "    }\n",
       "\n",
       "    .dataframe tbody tr th {\n",
       "        vertical-align: top;\n",
       "    }\n",
       "\n",
       "    .dataframe thead th {\n",
       "        text-align: right;\n",
       "    }\n",
       "</style>\n",
       "<table border=\"1\" class=\"dataframe\">\n",
       "  <thead>\n",
       "    <tr style=\"text-align: right;\">\n",
       "      <th></th>\n",
       "      <th>Pclass</th>\n",
       "      <th>Sex</th>\n",
       "      <th>Age</th>\n",
       "      <th>SibSp</th>\n",
       "      <th>Parch</th>\n",
       "      <th>Fare</th>\n",
       "      <th>Embarked</th>\n",
       "    </tr>\n",
       "  </thead>\n",
       "  <tbody>\n",
       "    <tr>\n",
       "      <th>0</th>\n",
       "      <td>3</td>\n",
       "      <td>1</td>\n",
       "      <td>34.5</td>\n",
       "      <td>0</td>\n",
       "      <td>0</td>\n",
       "      <td>7.8292</td>\n",
       "      <td>3</td>\n",
       "    </tr>\n",
       "    <tr>\n",
       "      <th>1</th>\n",
       "      <td>3</td>\n",
       "      <td>0</td>\n",
       "      <td>47.0</td>\n",
       "      <td>1</td>\n",
       "      <td>0</td>\n",
       "      <td>7.0000</td>\n",
       "      <td>1</td>\n",
       "    </tr>\n",
       "    <tr>\n",
       "      <th>2</th>\n",
       "      <td>2</td>\n",
       "      <td>1</td>\n",
       "      <td>62.0</td>\n",
       "      <td>0</td>\n",
       "      <td>0</td>\n",
       "      <td>9.6875</td>\n",
       "      <td>3</td>\n",
       "    </tr>\n",
       "    <tr>\n",
       "      <th>3</th>\n",
       "      <td>3</td>\n",
       "      <td>1</td>\n",
       "      <td>27.0</td>\n",
       "      <td>0</td>\n",
       "      <td>0</td>\n",
       "      <td>8.6625</td>\n",
       "      <td>1</td>\n",
       "    </tr>\n",
       "    <tr>\n",
       "      <th>4</th>\n",
       "      <td>3</td>\n",
       "      <td>0</td>\n",
       "      <td>22.0</td>\n",
       "      <td>1</td>\n",
       "      <td>1</td>\n",
       "      <td>12.2875</td>\n",
       "      <td>1</td>\n",
       "    </tr>\n",
       "  </tbody>\n",
       "</table>\n",
       "</div>"
      ],
      "text/plain": [
       "   Pclass  Sex   Age  SibSp  Parch     Fare  Embarked\n",
       "0       3    1  34.5      0      0   7.8292         3\n",
       "1       3    0  47.0      1      0   7.0000         1\n",
       "2       2    1  62.0      0      0   9.6875         3\n",
       "3       3    1  27.0      0      0   8.6625         1\n",
       "4       3    0  22.0      1      1  12.2875         1"
      ]
     },
     "execution_count": 344,
     "metadata": {},
     "output_type": "execute_result"
    }
   ],
   "source": [
    "data_test.head()"
   ]
  },
  {
   "attachments": {},
   "cell_type": "markdown",
   "id": "eda5047b",
   "metadata": {},
   "source": [
    "Now, the predictions for the data_test has been generated as follows"
   ]
  },
  {
   "cell_type": "code",
   "execution_count": 345,
   "id": "db4399e8",
   "metadata": {},
   "outputs": [],
   "source": [
    "predictions_test = []\n",
    "for _, instance in data_test.iterrows(): #Avoids the indices and only takes the values over each iteration\n",
    "    predictions_test.append(predict(instance))"
   ]
  },
  {
   "cell_type": "code",
   "execution_count": 346,
   "id": "0b6125e8",
   "metadata": {},
   "outputs": [
    {
     "name": "stdout",
     "output_type": "stream",
     "text": [
      "[0, 1, 0, 0, 1, 0, 1, 0, 1, 0, 0, 0, 1, 0, 1, 1, 0, 0, 1, 1, 1, 0, 0, 1, 1, 0, 1, 0, 0, 0, 0, 0, 1, 0, 1, 0, 0, 1, 0, 0, 0, 0, 0, 1, 1, 0, 0, 0, 1, 1, 0, 0, 0, 1, 0, 0, 0, 0, 0, 1, 0, 0, 0, 1, 1, 0, 1, 0, 0, 1, 1, 0, 1, 0, 1, 1, 0, 1, 0, 1, 0, 1, 0, 0, 0, 0, 1, 1, 0, 0, 1, 0, 1, 0, 0, 0, 1, 0, 1, 0, 1, 0, 0, 0, 1, 0, 0, 0, 0, 0, 0, 0, 1, 1, 1, 0, 0, 1, 1, 1, 1, 0, 1, 0, 0, 1, 0, 0, 0, 0, 0, 0, 0, 0, 0, 0, 0, 0, 1, 0, 0, 1, 1, 0, 0, 0, 0, 0, 0, 0, 1, 0, 0, 1, 0, 0, 1, 1, 0, 1, 0, 0, 1, 0, 0, 1, 0, 0, 0, 1, 0, 0, 0, 0, 0, 1, 1, 1, 1, 1, 0, 1, 1, 0, 1, 0, 1, 0, 0, 0, 0, 0, 0, 0, 0, 0, 1, 1, 0, 0, 0, 0, 1, 1, 0, 0, 1, 0, 1, 0, 0, 0, 0, 1, 0, 0, 0, 1, 1, 0, 1, 0, 1, 0, 1, 0, 0, 0, 0, 0, 0, 1, 0, 0, 1, 0, 1, 0, 1, 1, 1, 1, 1, 0, 0, 0, 1, 0, 1, 0, 1, 0, 1, 0, 0, 0, 0, 0, 1, 0, 0, 0, 1, 1, 0, 0, 0, 0, 0, 0, 1, 0, 1, 0, 0, 1, 0, 0, 0, 0, 1, 0, 0, 1, 1, 0, 0, 1, 0, 0, 0, 1, 0, 1, 0, 0, 1, 0, 0, 0, 0, 0, 0, 0, 0, 1, 1, 0, 1, 1, 0, 0, 0, 1, 1, 1, 1, 0, 0, 0, 0, 0, 0, 0, 1, 0, 1, 1, 0, 0, 1, 0, 0, 1, 0, 0, 0, 0, 0, 0, 0, 0, 0, 1, 0, 1, 0, 1, 0, 1, 1, 0, 0, 0, 1, 0, 1, 0, 0, 1, 0, 1, 1, 0, 1, 0, 0, 1, 1, 0, 0, 1, 0, 0, 1, 1, 0, 0, 0, 0, 0, 0, 0, 1, 0, 1, 0, 0, 0, 0, 1, 1, 0, 0, 0, 1, 0, 1, 0, 0, 1, 0, 1, 0, 0, 0, 0, 1, 0, 1, 0, 1, 1, 0, 1, 0, 0, 0]\n"
     ]
    }
   ],
   "source": [
    "print(predictions_test)"
   ]
  },
  {
   "cell_type": "code",
   "execution_count": 347,
   "id": "2e7f85eb",
   "metadata": {},
   "outputs": [],
   "source": [
    "data_final.drop('PassengerId', axis = 1, inplace = True) # This is the gender_submission.csv"
   ]
  },
  {
   "cell_type": "code",
   "execution_count": 348,
   "id": "4018acc6",
   "metadata": {
    "scrolled": true
   },
   "outputs": [
    {
     "name": "stdout",
     "output_type": "stream",
     "text": [
      "[0 1 0 0 1 0 1 0 1 0 0 0 1 0 1 1 0 0 1 1 0 0 1 0 1 0 1 0 0 0 0 0 1 1 0 0 1\n",
      " 1 0 0 0 0 0 1 1 0 0 0 1 1 0 0 1 1 0 0 0 0 0 1 0 0 0 1 0 1 1 0 0 1 1 0 1 0\n",
      " 1 0 0 1 0 1 0 0 0 0 0 0 1 1 1 0 1 0 1 0 0 0 1 0 1 0 1 0 0 0 1 0 0 0 0 0 0\n",
      " 1 1 1 1 0 0 1 0 1 1 0 1 0 0 1 0 1 0 0 0 0 1 0 0 0 0 0 1 0 1 1 0 0 0 0 0 0\n",
      " 0 0 1 0 0 1 0 0 1 1 0 1 1 0 1 0 0 1 0 0 1 1 0 0 0 0 0 1 1 0 1 1 0 0 1 0 1\n",
      " 0 1 0 1 0 0 0 0 0 0 0 0 1 0 1 1 0 0 1 0 0 1 0 1 0 0 0 0 1 1 0 1 0 1 0 1 0\n",
      " 1 0 1 1 0 1 0 0 0 1 0 0 0 0 0 0 1 1 1 1 0 0 0 0 1 0 1 1 1 0 0 0 0 0 0 0 1\n",
      " 0 0 0 1 1 0 0 0 0 1 0 0 0 1 1 0 1 0 0 0 0 1 0 1 1 1 0 0 0 0 0 0 1 0 0 0 0\n",
      " 1 0 0 0 0 0 0 0 1 1 0 0 0 1 0 0 0 1 1 1 0 0 0 0 0 0 0 0 1 0 1 0 0 0 1 0 0\n",
      " 1 0 0 0 0 0 0 0 0 0 1 0 1 0 1 0 1 1 0 0 0 1 0 1 0 0 1 0 1 1 0 1 1 0 1 1 0\n",
      " 0 1 0 0 1 1 1 0 0 0 0 0 1 1 0 1 0 0 0 0 0 1 0 0 0 1 0 1 0 0 1 0 1 0 0 0 0\n",
      " 0 1 1 1 1 1 0 1 0 0 0]\n"
     ]
    }
   ],
   "source": [
    "data_final = data_final.squeeze().values # To store the values in the array format.\n",
    "print(data_final)"
   ]
  },
  {
   "cell_type": "code",
   "execution_count": 349,
   "id": "1dab1793",
   "metadata": {},
   "outputs": [
    {
     "name": "stdout",
     "output_type": "stream",
     "text": [
      "Accuracy: 0.868421052631579\n"
     ]
    }
   ],
   "source": [
    "accuracy = np.sum(predictions_test == data_final) / len(data_final)\n",
    "print('Accuracy:', accuracy)"
   ]
  },
  {
   "attachments": {},
   "cell_type": "markdown",
   "id": "a1726e40",
   "metadata": {},
   "source": [
    "Hence, the Naive Bayes Model performs well for the given test.csv file"
   ]
  },
  {
   "attachments": {},
   "cell_type": "markdown",
   "id": "3a001263",
   "metadata": {},
   "source": [
    "## K-Nearest Neighbors (KNN) Algorithm\n",
    "\n",
    "K-Nearest Neighbors (KNN) is a simple yet powerful machine learning algorithm used for both classification and regression tasks. It classifies a new data point based on its proximity to the K nearest neighbors in the training data.\n",
    "\n",
    "### Algorithm Overview\n",
    "\n",
    "1. Choose the value of K, the number of nearest neighbors to consider.\n",
    "2. Calculate the distance between the new data point and all the training data points using a distance metric such as Euclidean distance.\n",
    "3. Select the K data points with the smallest distances.\n",
    "4. For classification, assign the class label that is most frequent among the K nearest neighbors. For regression, take the average of the target values of the K nearest neighbors.\n",
    "5. The predicted class label or target value of the new data point is the output of the algorithm.\n",
    "\n",
    "### Formula\n",
    "\n",
    "KNN algorithm uses the following formula to calculate the distance between two data points:\n",
    "\n",
    "Distance(x, xi) = sqrt((x1 - x1i)^2 + (x2 - x2i)^2 + ... + (xn - xni)^2)\n",
    "\n",
    "Where:\n",
    "- Distance(x, xi) is the distance between the new data point x and the training data point xi.\n",
    "- x1, x2, ..., xn are the features of the new data point x.\n",
    "- x1i, x2i, ..., xni are the features of the training data point xi.\n",
    "\n",
    "### Choosing the Value of K\n",
    "\n",
    "The value of K is a crucial parameter in KNN algorithm. A small value of K makes the model more sensitive to noise and outliers, while a large value of K smooths out the decision boundaries and may lead to misclassification of data points from different classes.\n"
   ]
  },
  {
   "attachments": {},
   "cell_type": "markdown",
   "id": "27c99fdd",
   "metadata": {},
   "source": [
    "Let us define the model for KNN algorithm"
   ]
  },
  {
   "cell_type": "code",
   "execution_count": 357,
   "id": "904481a5",
   "metadata": {},
   "outputs": [
    {
     "name": "stdout",
     "output_type": "stream",
     "text": [
      "Accuracy: 0.6759776536312849\n"
     ]
    }
   ],
   "source": [
    "# Calculate Euclidean distance between two data points\n",
    "def euclidean_distance(point1, point2):\n",
    "    return np.sqrt(np.sum((point1 - point2) ** 2))\n",
    "\n",
    "# K-Nearest Neighbors algorithm\n",
    "def knn(x_train, y_train, x_test, k):\n",
    "    y_pred = []\n",
    "    for test_point in x_test.values:\n",
    "        distances = []\n",
    "        for train_point in x_train.values:\n",
    "            distance = euclidean_distance(test_point, train_point)\n",
    "            distances.append(distance)\n",
    "        sorted_indices = np.argsort(distances) # It returns the indices of the distances list after sorting it.\n",
    "        k_nearest_indices = sorted_indices[:k] #The first k indices are selected to get the indices of the k nearest neighbors.\n",
    "        k_nearest_labels = y_train.iloc[k_nearest_indices] #Maps the indices to the corresponding labels from the y_train\n",
    "        unique_labels, counts = np.unique(k_nearest_labels, return_counts=True) #Returns the unique values and it's elements count\n",
    "        predicted_label = unique_labels[np.argmax(counts)] #Selects the label with the highest count\n",
    "        y_pred.append(predicted_label)\n",
    "    return np.array(y_pred)\n",
    "\n",
    "# Set the value of k (number of neighbors)\n",
    "k = 3\n",
    "\n",
    "# Make predictions using KNN algorithm\n",
    "y_pred = knn(x_train, y_train, x_test, k)\n",
    "\n",
    "# Evaluate the model\n",
    "accuracy_knn = np.sum(y_pred == y_test) / len(y_test)\n",
    "print(\"Accuracy:\", accuracy)"
   ]
  },
  {
   "cell_type": "code",
   "execution_count": 358,
   "id": "32d56134",
   "metadata": {},
   "outputs": [
    {
     "name": "stdout",
     "output_type": "stream",
     "text": [
      "[0 1 0 0 0 0 0 1 1 1 0 0 0 0 0 0 0 1 0 0 0 0 0 0 0 0 0 0 0 1 0 0 1 0 1 0 0\n",
      " 0 0 1 1 1 0 0 1 1 0 0 0 0 0 1 0 0 0 1 0 0 1 0 0 1 0 1 1 1 1 0 0 0 0 1 1 0\n",
      " 1 0 0 0 1 1 0 1 0 0 0 0 0 0 0 0 1 1 0 0 0 0 0 0 1 0 0 1 1 0 1 0 0 0 0 0 0\n",
      " 0 0 1 1 0 1 0 0 1 0 0 0 1 0 1 1 0 0 1 0 0 0 1 0 0 0 1 1 1 0 0 0 1 0 0 1 0\n",
      " 0 0 0 1 0 0 0 0 0 0 0 0 0 0 0 1 1 0 1 0 1 0 0 0 0 0 0 0 0 0 0]\n"
     ]
    }
   ],
   "source": [
    "print(y_pred)"
   ]
  },
  {
   "cell_type": "code",
   "execution_count": 359,
   "id": "42b352db",
   "metadata": {
    "scrolled": true
   },
   "outputs": [
    {
     "data": {
      "text/html": [
       "<div>\n",
       "<style scoped>\n",
       "    .dataframe tbody tr th:only-of-type {\n",
       "        vertical-align: middle;\n",
       "    }\n",
       "\n",
       "    .dataframe tbody tr th {\n",
       "        vertical-align: top;\n",
       "    }\n",
       "\n",
       "    .dataframe thead th {\n",
       "        text-align: right;\n",
       "    }\n",
       "</style>\n",
       "<table border=\"1\" class=\"dataframe\">\n",
       "  <thead>\n",
       "    <tr style=\"text-align: right;\">\n",
       "      <th></th>\n",
       "      <th>Pclass</th>\n",
       "      <th>Sex</th>\n",
       "      <th>Age</th>\n",
       "      <th>SibSp</th>\n",
       "      <th>Parch</th>\n",
       "      <th>Fare</th>\n",
       "      <th>Embarked</th>\n",
       "    </tr>\n",
       "  </thead>\n",
       "  <tbody>\n",
       "    <tr>\n",
       "      <th>0</th>\n",
       "      <td>3</td>\n",
       "      <td>1</td>\n",
       "      <td>34.5</td>\n",
       "      <td>0</td>\n",
       "      <td>0</td>\n",
       "      <td>7.8292</td>\n",
       "      <td>3</td>\n",
       "    </tr>\n",
       "    <tr>\n",
       "      <th>1</th>\n",
       "      <td>3</td>\n",
       "      <td>0</td>\n",
       "      <td>47.0</td>\n",
       "      <td>1</td>\n",
       "      <td>0</td>\n",
       "      <td>7.0000</td>\n",
       "      <td>1</td>\n",
       "    </tr>\n",
       "    <tr>\n",
       "      <th>2</th>\n",
       "      <td>2</td>\n",
       "      <td>1</td>\n",
       "      <td>62.0</td>\n",
       "      <td>0</td>\n",
       "      <td>0</td>\n",
       "      <td>9.6875</td>\n",
       "      <td>3</td>\n",
       "    </tr>\n",
       "    <tr>\n",
       "      <th>3</th>\n",
       "      <td>3</td>\n",
       "      <td>1</td>\n",
       "      <td>27.0</td>\n",
       "      <td>0</td>\n",
       "      <td>0</td>\n",
       "      <td>8.6625</td>\n",
       "      <td>1</td>\n",
       "    </tr>\n",
       "    <tr>\n",
       "      <th>4</th>\n",
       "      <td>3</td>\n",
       "      <td>0</td>\n",
       "      <td>22.0</td>\n",
       "      <td>1</td>\n",
       "      <td>1</td>\n",
       "      <td>12.2875</td>\n",
       "      <td>1</td>\n",
       "    </tr>\n",
       "  </tbody>\n",
       "</table>\n",
       "</div>"
      ],
      "text/plain": [
       "   Pclass  Sex   Age  SibSp  Parch     Fare  Embarked\n",
       "0       3    1  34.5      0      0   7.8292         3\n",
       "1       3    0  47.0      1      0   7.0000         1\n",
       "2       2    1  62.0      0      0   9.6875         3\n",
       "3       3    1  27.0      0      0   8.6625         1\n",
       "4       3    0  22.0      1      1  12.2875         1"
      ]
     },
     "execution_count": 359,
     "metadata": {},
     "output_type": "execute_result"
    }
   ],
   "source": [
    "data_test.head() #test.csv file"
   ]
  },
  {
   "cell_type": "code",
   "execution_count": 353,
   "id": "e07defbb",
   "metadata": {},
   "outputs": [],
   "source": [
    "data1_final.drop('PassengerId', axis = 1, inplace = True) # A copy of the data_final which is the gender_submission.csv file"
   ]
  },
  {
   "cell_type": "code",
   "execution_count": 356,
   "id": "64ca8f07",
   "metadata": {},
   "outputs": [
    {
     "name": "stdout",
     "output_type": "stream",
     "text": [
      "(334, 7) (84, 7)\n",
      "(334, 1)\n",
      "(84, 1)\n"
     ]
    }
   ],
   "source": [
    "#Splitting the test.csv and gender_submission.csv into train and test data\n",
    "\n",
    "num_of_samples = int(0.8 * len(data_test))\n",
    "indices = np.random.permutation(len(data_test))\n",
    "x1_train = data_test.iloc[indices[:num_of_samples]]\n",
    "x1_test = data_test.iloc[indices[num_of_samples:]]\n",
    "y1_train = data1_final.iloc[indices[:num_of_samples]]\n",
    "y1_test = data1_final.iloc[indices[num_of_samples:]]\n",
    "print(x1_train.shape, x1_test.shape)\n",
    "print(y1_train.shape)\n",
    "print(y1_test.shape)"
   ]
  },
  {
   "cell_type": "code",
   "execution_count": 355,
   "id": "50b05a7e",
   "metadata": {},
   "outputs": [
    {
     "name": "stdout",
     "output_type": "stream",
     "text": [
      "Accuracy: 0.6071428571428571\n"
     ]
    }
   ],
   "source": [
    "# Now predictions are made for the test data and the y_pred_test are compared with the y1_test (Which is the gender_submission.csv file)\n",
    "k = 3\n",
    "y_pred_test = knn(x1_train, y1_train, x1_test, k)\n",
    "\n",
    "y1_test = y1_test.squeeze().values\n",
    "accuracy_test = np.sum(y_pred_test == y1_test) / len(y1_test)\n",
    "print(\"Accuracy:\", accuracy_test)"
   ]
  },
  {
   "attachments": {},
   "cell_type": "markdown",
   "id": "27c8f189",
   "metadata": {},
   "source": [
    " # 7 Comparison"
   ]
  },
  {
   "attachments": {},
   "cell_type": "markdown",
   "id": "ecfd22ed",
   "metadata": {},
   "source": [
    "The comparison between Naive Bayes algorithm and K-Nearest Neighbours algorithm accuracies has been made"
   ]
  },
  {
   "cell_type": "code",
   "execution_count": 360,
   "id": "a6cb74a3",
   "metadata": {},
   "outputs": [
    {
     "data": {
      "image/png": "[encoded data removed]",
      "text/plain": [
       "<Figure size 640x480 with 1 Axes>"
      ]
     },
     "metadata": {},
     "output_type": "display_data"
    }
   ],
   "source": [
    "naive_bayes_accuracy = accuracy\n",
    "knn_accuracy = accuracy_test\n",
    "\n",
    "\n",
    "plt.bar(['Naive Bayes', 'KNN'], [naive_bayes_accuracy, knn_accuracy])\n",
    "plt.xlabel('Algorithm')\n",
    "plt.ylabel('Accuracy')\n",
    "plt.title('Comparison of Naive Bayes and KNN Accuracies')\n",
    "plt.ylim(0, 1)  # Set the y-axis limits to ensure proper visualization of accuracy values\n",
    "plt.show()"
   ]
  },
  {
   "attachments": {},
   "cell_type": "markdown",
   "id": "d81e35af",
   "metadata": {},
   "source": [
    "From the above plot, it is obvious that Naive Bayes offers more accuracy than the K-Nearest Neighbours. \n",
    "\n",
    "However, the performance of Naive Bayes and KNN can vary depending on the specific characteristics of the dataset and the problem at hand. It is recommended to evaluate and compare the performance of different algorithms using appropriate evaluation metrics, such as accuracy, precision, recall, or F1 score, to determine which algorithm performs better for a given task."
   ]
  },
  {
   "cell_type": "code",
   "execution_count": null,
   "id": "b6b0b7c9",
   "metadata": {},
   "outputs": [],
   "source": []
  }
 ],
 "metadata": {
  "kernelspec": {
   "display_name": "Python 3 (ipykernel)",
   "language": "python",
   "name": "python3"
  },
  "language_info": {
   "codemirror_mode": {
    "name": "ipython",
    "version": 3
   },
   "file_extension": ".py",
   "mimetype": "text/x-python",
   "name": "python",
   "nbconvert_exporter": "python",
   "pygments_lexer": "ipython3",
   "version": "3.10.5"
  }
 },
 "nbformat": 4,
 "nbformat_minor": 5
}
